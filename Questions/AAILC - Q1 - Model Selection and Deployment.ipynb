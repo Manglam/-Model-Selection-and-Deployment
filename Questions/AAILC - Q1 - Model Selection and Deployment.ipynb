{
 "cells": [
  {
   "cell_type": "markdown",
   "id": "017cd3f0",
   "metadata": {},
   "source": [
    "### AccelerateAI - Learning Circle \n",
    " **Model Selection & Deployment - Sep 2022**"
   ]
  },
  {
   "cell_type": "markdown",
   "id": "5aeffb8f",
   "metadata": {},
   "source": [
    "Consider the dataset below. Use AIC and BIC to select the right features for Logistic regression model. "
   ]
  },
  {
   "cell_type": "code",
   "execution_count": 1,
   "id": "6bd870e7",
   "metadata": {},
   "outputs": [],
   "source": [
    "# Required libraries for model selection\n",
    "import pandas as pd\n",
    "from sklearn.datasets import make_classification\n",
    "from sklearn.linear_model import LogisticRegression"
   ]
  },
  {
   "cell_type": "code",
   "execution_count": 2,
   "id": "48993fef",
   "metadata": {},
   "outputs": [],
   "source": [
    "X, Y = make_classification(n_features=10, n_informative=5, n_samples=200)           #Only 5 features are useful"
   ]
  },
  {
   "cell_type": "code",
   "execution_count": 3,
   "id": "cd8256ce",
   "metadata": {},
   "outputs": [
    {
     "data": {
      "text/html": [
       "<div>\n",
       "<style scoped>\n",
       "    .dataframe tbody tr th:only-of-type {\n",
       "        vertical-align: middle;\n",
       "    }\n",
       "\n",
       "    .dataframe tbody tr th {\n",
       "        vertical-align: top;\n",
       "    }\n",
       "\n",
       "    .dataframe thead th {\n",
       "        text-align: right;\n",
       "    }\n",
       "</style>\n",
       "<table border=\"1\" class=\"dataframe\">\n",
       "  <thead>\n",
       "    <tr style=\"text-align: right;\">\n",
       "      <th></th>\n",
       "      <th>var0</th>\n",
       "      <th>var1</th>\n",
       "      <th>var2</th>\n",
       "      <th>var3</th>\n",
       "      <th>var4</th>\n",
       "      <th>var5</th>\n",
       "      <th>var6</th>\n",
       "      <th>var7</th>\n",
       "      <th>var8</th>\n",
       "      <th>var9</th>\n",
       "    </tr>\n",
       "  </thead>\n",
       "  <tbody>\n",
       "    <tr>\n",
       "      <th>0</th>\n",
       "      <td>-0.453021</td>\n",
       "      <td>-1.309955</td>\n",
       "      <td>0.711514</td>\n",
       "      <td>0.892916</td>\n",
       "      <td>0.749807</td>\n",
       "      <td>-1.637874</td>\n",
       "      <td>0.604637</td>\n",
       "      <td>0.101287</td>\n",
       "      <td>-0.917159</td>\n",
       "      <td>0.177826</td>\n",
       "    </tr>\n",
       "    <tr>\n",
       "      <th>1</th>\n",
       "      <td>-0.683806</td>\n",
       "      <td>1.490915</td>\n",
       "      <td>0.934585</td>\n",
       "      <td>0.963957</td>\n",
       "      <td>-2.801243</td>\n",
       "      <td>-1.037855</td>\n",
       "      <td>-2.532061</td>\n",
       "      <td>-3.632280</td>\n",
       "      <td>0.587439</td>\n",
       "      <td>0.479721</td>\n",
       "    </tr>\n",
       "    <tr>\n",
       "      <th>2</th>\n",
       "      <td>-0.814131</td>\n",
       "      <td>2.955060</td>\n",
       "      <td>0.268216</td>\n",
       "      <td>-0.955737</td>\n",
       "      <td>-1.049040</td>\n",
       "      <td>-2.060844</td>\n",
       "      <td>1.309765</td>\n",
       "      <td>-2.241021</td>\n",
       "      <td>1.209335</td>\n",
       "      <td>2.109669</td>\n",
       "    </tr>\n",
       "    <tr>\n",
       "      <th>3</th>\n",
       "      <td>1.592008</td>\n",
       "      <td>1.323169</td>\n",
       "      <td>0.785985</td>\n",
       "      <td>-1.717110</td>\n",
       "      <td>1.770749</td>\n",
       "      <td>0.279089</td>\n",
       "      <td>4.638564</td>\n",
       "      <td>3.412188</td>\n",
       "      <td>-0.474392</td>\n",
       "      <td>-0.628273</td>\n",
       "    </tr>\n",
       "    <tr>\n",
       "      <th>4</th>\n",
       "      <td>0.030533</td>\n",
       "      <td>2.381260</td>\n",
       "      <td>-0.695284</td>\n",
       "      <td>-1.732203</td>\n",
       "      <td>-4.219120</td>\n",
       "      <td>0.036462</td>\n",
       "      <td>1.589677</td>\n",
       "      <td>-2.279235</td>\n",
       "      <td>-1.322937</td>\n",
       "      <td>-0.878600</td>\n",
       "    </tr>\n",
       "  </tbody>\n",
       "</table>\n",
       "</div>"
      ],
      "text/plain": [
       "       var0      var1      var2      var3      var4      var5      var6  \\\n",
       "0 -0.453021 -1.309955  0.711514  0.892916  0.749807 -1.637874  0.604637   \n",
       "1 -0.683806  1.490915  0.934585  0.963957 -2.801243 -1.037855 -2.532061   \n",
       "2 -0.814131  2.955060  0.268216 -0.955737 -1.049040 -2.060844  1.309765   \n",
       "3  1.592008  1.323169  0.785985 -1.717110  1.770749  0.279089  4.638564   \n",
       "4  0.030533  2.381260 -0.695284 -1.732203 -4.219120  0.036462  1.589677   \n",
       "\n",
       "       var7      var8      var9  \n",
       "0  0.101287 -0.917159  0.177826  \n",
       "1 -3.632280  0.587439  0.479721  \n",
       "2 -2.241021  1.209335  2.109669  \n",
       "3  3.412188 -0.474392 -0.628273  \n",
       "4 -2.279235 -1.322937 -0.878600  "
      ]
     },
     "execution_count": 3,
     "metadata": {},
     "output_type": "execute_result"
    }
   ],
   "source": [
    "df_x = pd.DataFrame(X, columns=[f\"var{i}\" for i in range(X.shape[1])])\n",
    "df_x.head()"
   ]
  },
  {
   "cell_type": "code",
   "execution_count": 4,
   "id": "6d8c36f5",
   "metadata": {},
   "outputs": [
    {
     "data": {
      "text/html": [
       "<div>\n",
       "<style scoped>\n",
       "    .dataframe tbody tr th:only-of-type {\n",
       "        vertical-align: middle;\n",
       "    }\n",
       "\n",
       "    .dataframe tbody tr th {\n",
       "        vertical-align: top;\n",
       "    }\n",
       "\n",
       "    .dataframe thead th {\n",
       "        text-align: right;\n",
       "    }\n",
       "</style>\n",
       "<table border=\"1\" class=\"dataframe\">\n",
       "  <thead>\n",
       "    <tr style=\"text-align: right;\">\n",
       "      <th></th>\n",
       "      <th>target</th>\n",
       "    </tr>\n",
       "  </thead>\n",
       "  <tbody>\n",
       "    <tr>\n",
       "      <th>0</th>\n",
       "      <td>1</td>\n",
       "    </tr>\n",
       "    <tr>\n",
       "      <th>1</th>\n",
       "      <td>1</td>\n",
       "    </tr>\n",
       "    <tr>\n",
       "      <th>2</th>\n",
       "      <td>1</td>\n",
       "    </tr>\n",
       "    <tr>\n",
       "      <th>3</th>\n",
       "      <td>0</td>\n",
       "    </tr>\n",
       "    <tr>\n",
       "      <th>4</th>\n",
       "      <td>1</td>\n",
       "    </tr>\n",
       "  </tbody>\n",
       "</table>\n",
       "</div>"
      ],
      "text/plain": [
       "   target\n",
       "0       1\n",
       "1       1\n",
       "2       1\n",
       "3       0\n",
       "4       1"
      ]
     },
     "execution_count": 4,
     "metadata": {},
     "output_type": "execute_result"
    }
   ],
   "source": [
    "df_y = pd.DataFrame(Y,columns=[\"target\"])\n",
    "df_y.head()"
   ]
  },
  {
   "cell_type": "code",
   "execution_count": 5,
   "id": "cfb261ad",
   "metadata": {},
   "outputs": [
    {
     "name": "stderr",
     "output_type": "stream",
     "text": [
      "C:\\Users\\kumarmanglam.thakur\\AppData\\Roaming\\Python\\Python38\\site-packages\\sklearn\\utils\\validation.py:993: DataConversionWarning: A column-vector y was passed when a 1d array was expected. Please change the shape of y to (n_samples, ), for example using ravel().\n",
      "  y = column_or_1d(y, warn=True)\n"
     ]
    },
    {
     "data": {
      "text/plain": [
       "array([[ 0.09318674,  1.15122774, -0.43259519,  0.36770036, -1.1695605 ,\n",
       "        -1.02256528,  0.51299849, -0.85012123, -0.4339101 , -0.30438606]])"
      ]
     },
     "execution_count": 5,
     "metadata": {},
     "output_type": "execute_result"
    }
   ],
   "source": [
    "# Train a logistic regression model \n",
    "lr = LogisticRegression()\n",
    "lr.fit(df_x, df_y)\n",
    "lr.coef_"
   ]
  },
  {
   "cell_type": "markdown",
   "id": "ba1576de",
   "metadata": {},
   "source": [
    "***"
   ]
  }
 ],
 "metadata": {
  "kernelspec": {
   "display_name": "Python 3 (ipykernel)",
   "language": "python",
   "name": "python3"
  },
  "language_info": {
   "codemirror_mode": {
    "name": "ipython",
    "version": 3
   },
   "file_extension": ".py",
   "mimetype": "text/x-python",
   "name": "python",
   "nbconvert_exporter": "python",
   "pygments_lexer": "ipython3",
   "version": "3.8.10"
  }
 },
 "nbformat": 4,
 "nbformat_minor": 5
}
